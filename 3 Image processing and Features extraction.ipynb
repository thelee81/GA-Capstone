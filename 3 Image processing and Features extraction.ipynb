{
 "cells": [
  {
   "cell_type": "markdown",
   "metadata": {},
   "source": [
    "# Image processing and Features extraction"
   ]
  },
  {
   "cell_type": "code",
   "execution_count": 1,
   "metadata": {},
   "outputs": [
    {
     "name": "stderr",
     "output_type": "stream",
     "text": [
      "C:\\Users\\Thelee\\Anaconda3\\lib\\site-packages\\dask\\config.py:168: YAMLLoadWarning: calling yaml.load() without Loader=... is deprecated, as the default Loader is unsafe. Please read https://msg.pyyaml.org/load for full details.\n",
      "  data = yaml.load(f.read()) or {}\n"
     ]
    }
   ],
   "source": [
    "from torchvision import datasets\n",
    "import PIL\n",
    "from skimage.feature import local_binary_pattern, greycomatrix, greycoprops\n",
    "from skimage.filters import gabor\n",
    "import numpy as np\n",
    "import pickle\n",
    "import matplotlib.pyplot as plt\n",
    "import cv2\n",
    "import pandas as pd\n",
    "from ipywidgets import IntProgress\n",
    "from IPython.display import display\n",
    "import random\n",
    "%matplotlib inline"
   ]
  },
  {
   "cell_type": "code",
   "execution_count": 2,
   "metadata": {},
   "outputs": [],
   "source": [
    "def beep_beep():\n",
    "    import winsound\n",
    "    frequency = 2500  # Set Frequency To 2500 Hertz\n",
    "    duration = 100  # Set Duration To 1000 ms == 1 second\n",
    "    winsound.Beep(frequency, duration)\n",
    "    winsound.Beep(frequency, duration)\n",
    "    winsound.Beep(frequency, duration)"
   ]
  },
  {
   "cell_type": "code",
   "execution_count": null,
   "metadata": {},
   "outputs": [],
   "source": [
    "# import glob\n",
    "# def make_flist(path):\n",
    "#     files = [f for f in glob.glob(path + \"**/*.bmp\", recursive=True)]\n",
    "#     df=pd.DataFrame(files)\n",
    "#     df.columns=['img_name']\n",
    "#     df.to_csv(path+'/'+path[2:]+'.csv',index=False)\n",
    "# make_flist(path = './C1')\n",
    "# make_flist(path = './C2')\n",
    "# make_flist(path = './C3')\n",
    "# make_flist(path = './C4')\n",
    "# make_flist(path = './C5')\n",
    "# make_flist(path = './C6')\n",
    "# make_flist(path = './C7')\n",
    "# make_flist(path = './C8')\n"
   ]
  },
  {
   "cell_type": "markdown",
   "metadata": {},
   "source": [
    "## Function for image processing and extracting features from all images in the dataset"
   ]
  },
  {
   "cell_type": "code",
   "execution_count": 3,
   "metadata": {},
   "outputs": [],
   "source": [
    "def feat_all(csv_path,incat=1):\n",
    "    dfin=pd.read_csv(csv_path)\n",
    "    # Feature extraction from multiple images\n",
    "    cat=[]\n",
    "    lbpene=[]\n",
    "    lbpent=[]\n",
    "    contra=[]\n",
    "    dissim=[]\n",
    "    homogen=[]\n",
    "    ener=[]\n",
    "    corre=[]\n",
    "    gabor_ene=[]\n",
    "    gabor_ent=[]\n",
    "    f = IntProgress(min=0, max=len(dfin)) # instantiate the bar\n",
    "    display(f) # display the bar\n",
    "    for i in dfin.img_name:\n",
    "        img = cv2.imread(i,0)\n",
    "        #'Finding LBP'\n",
    "        feat_lbp = local_binary_pattern(img,8,1,'uniform') #Radius = 1, No. of neighbours = 8\n",
    "        feat_lbp = np.uint8((feat_lbp/feat_lbp.max())*255) #Converting to unit8\n",
    "        lbp_img = PIL.Image.fromarray(feat_lbp) #Conversion from array to PIL image\n",
    "        #'Energy and Entropy of LBP feature'\n",
    "        lbp_hist,_ = np.histogram(feat_lbp,8)\n",
    "        lbp_hist = np.array(lbp_hist,dtype=float)\n",
    "        lbp_prob = np.divide(lbp_hist,np.sum(lbp_hist))\n",
    "        lbp_energy = np.sum(lbp_prob**2)\n",
    "        lbp_entropy = -np.sum(np.multiply(lbp_prob,np.log2(lbp_prob)))\n",
    "        #print('LBP energy = '+str(lbp_energy))\n",
    "        #print('LBP entropy = '+str(lbp_entropy))\n",
    "\n",
    "        #'Finding GLCM features from co-occurance matrix'\n",
    "        gCoMat = greycomatrix(img, [2], [0],256,symmetric=True, normed=True) # Co-occurance matrix\n",
    "        contrast = greycoprops(gCoMat, prop='contrast')\n",
    "        dissimilarity = greycoprops(gCoMat, prop='dissimilarity')\n",
    "        homogeneity = greycoprops(gCoMat, prop='homogeneity')\n",
    "        energy = greycoprops(gCoMat, prop='energy')\n",
    "        correlation = greycoprops(gCoMat, prop='correlation')\n",
    "        \n",
    "        # Gabor filter\n",
    "        gaborFilt_real,gaborFilt_imag = gabor(img,frequency=0.6)\n",
    "        gaborFilt = (gaborFilt_real**2+gaborFilt_imag**2)//2\n",
    "\n",
    "\n",
    "        #'Energy and Entropy of Gabor filter response'\n",
    "        gabor_hist,_ = np.histogram(gaborFilt,8)\n",
    "        gabor_hist = np.array(gabor_hist,dtype=float)\n",
    "        gabor_prob = np.divide(gabor_hist,np.sum(gabor_hist))\n",
    "        gabor_energy = np.sum(gabor_prob**2)\n",
    "        gabor_entropy = -np.sum(np.multiply(gabor_prob,np.log2(gabor_prob)))\n",
    "\n",
    "        lbpene.append(lbp_energy)\n",
    "        lbpent.append(lbp_entropy)\n",
    "\n",
    "        contra.append(contrast[0][0])\n",
    "        dissim.append(dissimilarity[0][0])\n",
    "        homogen.append(homogeneity[0][0])\n",
    "        ener.append(energy[0][0])\n",
    "        corre.append(correlation[0][0])\n",
    "\n",
    "        gabor_ene.append(gabor_energy)\n",
    "        gabor_ent.append(gabor_entropy)\n",
    "        cat.append(incat)\n",
    "        df = pd.DataFrame({'lbpene': lbpene,\n",
    "                   'lbpent' : lbpent,\n",
    "                   'dissim' : dissim,\n",
    "                   'homogen' : homogen,\n",
    "                  'ener':ener,\n",
    "                  'corre':corre,\n",
    "                  'gabor_ene':gabor_ene,\n",
    "                  'gabor_ent':gabor_ent,\n",
    "                  'cat':cat}, columns=['lbpene','lbpent','dissim','homogen','ener','corre','gabor_ene','gabor_ent','cat'])\n",
    "        df.to_csv('./data/test'+csv_path[5:],index=False)\n",
    "        f.description=random.choice(['-','/','|','\\\\'])\n",
    "        f.value += 1\n",
    "    print('Filename CSV saved:',csv_path[5:])\n",
    "    f.description='Done:'"
   ]
  },
  {
   "cell_type": "markdown",
   "metadata": {},
   "source": [
    "## Save extracted features from all images to csv"
   ]
  },
  {
   "cell_type": "code",
   "execution_count": null,
   "metadata": {},
   "outputs": [],
   "source": [
    "csvpath='./C1/C1.csv'\n",
    "feat_all(csv_path=csvpath,incat=1)\n",
    "csvpath='./C2/C2.csv'\n",
    "feat_all(csv_path=csvpath,incat=2)\n",
    "csvpath='./C3/C3.csv'\n",
    "feat_all(csv_path=csvpath,incat=3)\n",
    "csvpath='./C4/C4.csv'\n",
    "feat_all(csv_path=csvpath,incat=4)\n",
    "csvpath='./C5/C5.csv'\n",
    "feat_all(csv_path=csvpath,incat=5)\n",
    "csvpath='./C6/C6.csv'\n",
    "feat_all(csv_path=csvpath,incat=6)\n",
    "csvpath='./C7/C7.csv'\n",
    "feat_all(csv_path=csvpath,incat=7)\n",
    "csvpath='./C8/C8.csv'\n",
    "feat_all(csv_path=csvpath,incat=8)\n",
    "beep_beep()"
   ]
  }
 ],
 "metadata": {
  "kernelspec": {
   "display_name": "Python 3",
   "language": "python",
   "name": "python3"
  },
  "language_info": {
   "codemirror_mode": {
    "name": "ipython",
    "version": 3
   },
   "file_extension": ".py",
   "mimetype": "text/x-python",
   "name": "python",
   "nbconvert_exporter": "python",
   "pygments_lexer": "ipython3",
   "version": "3.7.3"
  },
  "toc": {
   "base_numbering": 1,
   "nav_menu": {},
   "number_sections": true,
   "sideBar": true,
   "skip_h1_title": true,
   "title_cell": "Table of Contents",
   "title_sidebar": "Contents",
   "toc_cell": false,
   "toc_position": {},
   "toc_section_display": true,
   "toc_window_display": false
  }
 },
 "nbformat": 4,
 "nbformat_minor": 2
}
